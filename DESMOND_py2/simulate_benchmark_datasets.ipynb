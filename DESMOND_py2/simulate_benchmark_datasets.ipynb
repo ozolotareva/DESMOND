{
 "cells": [
  {
   "cell_type": "code",
   "execution_count": 1,
   "metadata": {},
   "outputs": [],
   "source": [
    "from __future__ import print_function\n",
    "import numpy as np\n",
    "import  pandas as pd\n",
    "import matplotlib.pyplot as plt\n",
    "import networkx as nx\n",
    "import sys,os\n",
    "import random\n",
    "import copy\n",
    "\n",
    "sys.path.append(os.path.abspath(\"/home/olya/SFU/Breast_cancer/DESMOND/\"))\n",
    "from method import print_network_stats\n",
    "\n",
    "from simulations import make_bg_matrix, implant_biclusters, group_genes\n",
    "from simulations import simulate_network,find_starting_points,assign_nodes, grow_subnetworks, check_connectivity\n",
    "\n",
    "%matplotlib inline\n",
    "\n",
    "N = 10 # n_bics\n",
    "n_pats = 200\n",
    "n_genes = 2000\n",
    "\n",
    "g_sizes = [5,10,20,50,100] # \n",
    "p_sizes = [10,20,50,100] # 10-50% of the dataset\n",
    "bic_median = 2.0 #\n",
    "allow_gene_overlap = True\n",
    "allow_patient_overlap = True\n",
    "\n",
    "# network parameters\n",
    "beta = 0.9\n",
    "delta = 4.0\n",
    "\n",
    "outdir = \"simulated_datasets/\"\n",
    "basename = \"simulated\" #"
   ]
  },
  {
   "cell_type": "code",
   "execution_count": 2,
   "metadata": {},
   "outputs": [],
   "source": [
    "def avg_SNR(biclusters):\n",
    "    SNRs = []\n",
    "    for bc in biclusters:\n",
    "        g = set(bc[\"genes\"])\n",
    "        p = set(bc[\"patients\"])\n",
    "        bg_g = set(df.index.values).difference(g)\n",
    "        bg_p = set(df.columns.values).difference(p)\n",
    "        m = df.loc[g,p].mean(axis=1)\n",
    "        v = df.loc[g,p].std(axis=1)\n",
    "        m_bg = df.loc[g,bg_p].mean(axis=1)\n",
    "        v_bg = df.loc[g,bg_p].std(axis=1)\n",
    "        SNRs.append(np.average((m-m_bg)/(v+v_bg)))\n",
    "    return np.average(SNRs)"
   ]
  },
  {
   "cell_type": "code",
   "execution_count": 3,
   "metadata": {
    "scrolled": false
   },
   "outputs": [
    {
     "name": "stdout",
     "output_type": "stream",
     "text": [
      "Simulate a matrix of (2000x200) (genesXpatients) expressions\n",
      "Implant 10 (5x10) (genesXpatients) biclusters into the matrix;\n"
     ]
    },
    {
     "name": "stderr",
     "output_type": "stream",
     "text": [
      "Will create 10 biclusters with gene and patient overlap \n"
     ]
    },
    {
     "name": "stdout",
     "output_type": "stream",
     "text": [
      "\tAverage SNR for simulated biclusters: 1.04\n",
      "\tgamma: 2.47368421053\n"
     ]
    },
    {
     "data": {
      "image/png": "[encoded data removed]",
      "text/plain": [
       "<Figure size 432x288 with 1 Axes>"
      ]
     },
     "metadata": {},
     "output_type": "display_data"
    },
    {
     "name": "stderr",
     "output_type": "stream",
     "text": [
      "Undirected graph with 1 connected components; with 2000 nodes and 14792 edges;\n",
      "runtime: 66.66 s\n"
     ]
    },
    {
     "name": "stdout",
     "output_type": "stream",
     "text": [
      "\tmin and max node degree: 768,1\n",
      "\tMax. number of biclusters per gene: 2\n",
      "\tUnique gene groups 12\n",
      "\tAll subnetworks connected: True\n",
      "\n",
      "Simulate a matrix of (2000x200) (genesXpatients) expressions\n",
      "Implant 10 (5x20) (genesXpatients) biclusters into the matrix;\n"
     ]
    },
    {
     "name": "stderr",
     "output_type": "stream",
     "text": [
      "Will create 10 biclusters with gene and patient overlap \n"
     ]
    },
    {
     "name": "stdout",
     "output_type": "stream",
     "text": [
      "\tAverage SNR for simulated biclusters: 1.02\n",
      "\tgamma: 2.47368421053\n"
     ]
    },
    {
     "data": {
      "image/png": "[encoded data removed]",
      "text/plain": [
       "<Figure size 432x288 with 1 Axes>"
      ]
     },
     "metadata": {},
     "output_type": "display_data"
    },
    {
     "name": "stderr",
     "output_type": "stream",
     "text": [
      "Undirected graph with 1 connected components; with 2000 nodes and 14880 edges;\n",
      "runtime: 74.3 s\n"
     ]
    },
    {
     "name": "stdout",
     "output_type": "stream",
     "text": [
      "\tmin and max node degree: 540,1\n",
      "\tMax. number of biclusters per gene: 1\n",
      "\tUnique gene groups 11\n",
      "\tAll subnetworks connected: True\n",
      "\n",
      "Simulate a matrix of (2000x200) (genesXpatients) expressions\n",
      "Implant 10 (5x50) (genesXpatients) biclusters into the matrix;\n"
     ]
    },
    {
     "name": "stderr",
     "output_type": "stream",
     "text": [
      "Will create 10 biclusters with gene and patient overlap \n"
     ]
    },
    {
     "name": "stdout",
     "output_type": "stream",
     "text": [
      "\tAverage SNR for simulated biclusters: 1.0\n",
      "\tgamma: 2.47368421053\n"
     ]
    },
    {
     "data": {
      "image/png": "[encoded data removed]",
      "text/plain": [
       "<Figure size 432x288 with 1 Axes>"
      ]
     },
     "metadata": {},
     "output_type": "display_data"
    },
    {
     "name": "stderr",
     "output_type": "stream",
     "text": [
      "Undirected graph with 1 connected components; with 2000 nodes and 14391 edges;\n",
      "runtime: 72.11 s\n"
     ]
    },
    {
     "name": "stdout",
     "output_type": "stream",
     "text": [
      "\tmin and max node degree: 618,1\n",
      "\tMax. number of biclusters per gene: 2\n",
      "\tUnique gene groups 12\n",
      "\tAll subnetworks connected: True\n",
      "\n",
      "Simulate a matrix of (2000x200) (genesXpatients) expressions\n",
      "Implant 10 (5x100) (genesXpatients) biclusters into the matrix;\n"
     ]
    },
    {
     "name": "stderr",
     "output_type": "stream",
     "text": [
      "Will create 10 biclusters with gene and patient overlap \n"
     ]
    },
    {
     "name": "stdout",
     "output_type": "stream",
     "text": [
      "\tAverage SNR for simulated biclusters: 1.01\n",
      "\tgamma: 2.47368421053\n"
     ]
    },
    {
     "data": {
      "image/png": "[encoded data removed]",
      "text/plain": [
       "<Figure size 432x288 with 1 Axes>"
      ]
     },
     "metadata": {},
     "output_type": "display_data"
    },
    {
     "name": "stderr",
     "output_type": "stream",
     "text": [
      "Undirected graph with 1 connected components; with 2000 nodes and 14467 edges;\n",
      "runtime: 63.53 s\n"
     ]
    },
    {
     "name": "stdout",
     "output_type": "stream",
     "text": [
      "\tmin and max node degree: 596,1\n",
      "\tMax. number of biclusters per gene: 1\n",
      "\tUnique gene groups 11\n",
      "\tAll subnetworks connected: True\n",
      "\n",
      "Simulate a matrix of (2000x200) (genesXpatients) expressions\n",
      "Implant 10 (10x10) (genesXpatients) biclusters into the matrix;\n"
     ]
    },
    {
     "name": "stderr",
     "output_type": "stream",
     "text": [
      "Will create 10 biclusters with gene and patient overlap \n"
     ]
    },
    {
     "name": "stdout",
     "output_type": "stream",
     "text": [
      "\tAverage SNR for simulated biclusters: 1.03\n",
      "\tgamma: 2.47368421053\n"
     ]
    },
    {
     "data": {
      "image/png": "[encoded data removed]",
      "text/plain": [
       "<Figure size 432x288 with 1 Axes>"
      ]
     },
     "metadata": {},
     "output_type": "display_data"
    },
    {
     "name": "stderr",
     "output_type": "stream",
     "text": [
      "Undirected graph with 1 connected components; with 2000 nodes and 14603 edges;\n",
      "runtime: 60.83 s\n"
     ]
    },
    {
     "name": "stdout",
     "output_type": "stream",
     "text": [
      "\tmin and max node degree: 643,1\n",
      "\tMax. number of biclusters per gene: 2\n",
      "\tUnique gene groups 13\n",
      "\tAll subnetworks connected: True\n",
      "\n",
      "Simulate a matrix of (2000x200) (genesXpatients) expressions\n",
      "Implant 10 (10x20) (genesXpatients) biclusters into the matrix;\n"
     ]
    },
    {
     "name": "stderr",
     "output_type": "stream",
     "text": [
      "Will create 10 biclusters with gene and patient overlap \n"
     ]
    },
    {
     "name": "stdout",
     "output_type": "stream",
     "text": [
      "\tAverage SNR for simulated biclusters: 1.01\n",
      "\tgamma: 2.47368421053\n"
     ]
    },
    {
     "data": {
      "image/png": "[encoded data removed]",
      "text/plain": [
       "<Figure size 432x288 with 1 Axes>"
      ]
     },
     "metadata": {},
     "output_type": "display_data"
    },
    {
     "name": "stderr",
     "output_type": "stream",
     "text": [
      "Undirected graph with 1 connected components; with 2000 nodes and 15498 edges;\n",
      "runtime: 70.1 s\n"
     ]
    },
    {
     "name": "stdout",
     "output_type": "stream",
     "text": [
      "\tmin and max node degree: 504,1\n",
      "\tMax. number of biclusters per gene: 2\n",
      "\tUnique gene groups 13\n",
      "\tAll subnetworks connected: True\n",
      "\n",
      "Simulate a matrix of (2000x200) (genesXpatients) expressions\n",
      "Implant 10 (10x50) (genesXpatients) biclusters into the matrix;\n"
     ]
    },
    {
     "name": "stderr",
     "output_type": "stream",
     "text": [
      "Will create 10 biclusters with gene and patient overlap \n"
     ]
    },
    {
     "name": "stdout",
     "output_type": "stream",
     "text": [
      "\tAverage SNR for simulated biclusters: 1.0\n",
      "\tgamma: 2.47368421053\n"
     ]
    },
    {
     "data": {
      "image/png": "[encoded data removed]",
      "text/plain": [
       "<Figure size 432x288 with 1 Axes>"
      ]
     },
     "metadata": {},
     "output_type": "display_data"
    },
    {
     "name": "stderr",
     "output_type": "stream",
     "text": [
      "Undirected graph with 1 connected components; with 2000 nodes and 14677 edges;\n",
      "runtime: 71.42 s\n"
     ]
    },
    {
     "name": "stdout",
     "output_type": "stream",
     "text": [
      "\tmin and max node degree: 612,1\n",
      "\tMax. number of biclusters per gene: 2\n",
      "\tUnique gene groups 13\n",
      "\tAll subnetworks connected: True\n",
      "\n",
      "Simulate a matrix of (2000x200) (genesXpatients) expressions\n",
      "Implant 10 (10x100) (genesXpatients) biclusters into the matrix;\n"
     ]
    },
    {
     "name": "stderr",
     "output_type": "stream",
     "text": [
      "Will create 10 biclusters with gene and patient overlap \n"
     ]
    },
    {
     "name": "stdout",
     "output_type": "stream",
     "text": [
      "\tAverage SNR for simulated biclusters: 0.95\n",
      "\tgamma: 2.47368421053\n"
     ]
    },
    {
     "data": {
      "image/png": "[encoded data removed]",
      "text/plain": [
       "<Figure size 432x288 with 1 Axes>"
      ]
     },
     "metadata": {},
     "output_type": "display_data"
    },
    {
     "name": "stderr",
     "output_type": "stream",
     "text": [
      "Undirected graph with 1 connected components; with 2000 nodes and 14945 edges;\n",
      "runtime: 65.45 s\n"
     ]
    },
    {
     "name": "stdout",
     "output_type": "stream",
     "text": [
      "\tmin and max node degree: 646,1\n",
      "\tMax. number of biclusters per gene: 2\n",
      "\tUnique gene groups 16\n",
      "\tAll subnetworks connected: True\n",
      "\n",
      "Simulate a matrix of (2000x200) (genesXpatients) expressions\n",
      "Implant 10 (20x10) (genesXpatients) biclusters into the matrix;\n"
     ]
    },
    {
     "name": "stderr",
     "output_type": "stream",
     "text": [
      "Will create 10 biclusters with gene and patient overlap \n"
     ]
    },
    {
     "name": "stdout",
     "output_type": "stream",
     "text": [
      "\tAverage SNR for simulated biclusters: 1.04\n",
      "\tgamma: 2.47368421053\n"
     ]
    },
    {
     "data": {
      "image/png": "[encoded data removed]",
      "text/plain": [
       "<Figure size 432x288 with 1 Axes>"
      ]
     },
     "metadata": {},
     "output_type": "display_data"
    },
    {
     "name": "stderr",
     "output_type": "stream",
     "text": [
      "Undirected graph with 1 connected components; with 2000 nodes and 14867 edges;\n",
      "runtime: 66.0 s\n"
     ]
    },
    {
     "name": "stdout",
     "output_type": "stream",
     "text": [
      "\tmin and max node degree: 644,1\n",
      "\tMax. number of biclusters per gene: 2\n",
      "\tUnique gene groups 17\n",
      "\tAll subnetworks connected: True\n",
      "\n",
      "Simulate a matrix of (2000x200) (genesXpatients) expressions\n",
      "Implant 10 (20x20) (genesXpatients) biclusters into the matrix;\n"
     ]
    },
    {
     "name": "stderr",
     "output_type": "stream",
     "text": [
      "Will create 10 biclusters with gene and patient overlap \n"
     ]
    },
    {
     "name": "stdout",
     "output_type": "stream",
     "text": [
      "\tAverage SNR for simulated biclusters: 1.03\n",
      "\tgamma: 2.47368421053\n"
     ]
    },
    {
     "data": {
      "image/png": "[encoded data removed]",
      "text/plain": [
       "<Figure size 432x288 with 1 Axes>"
      ]
     },
     "metadata": {},
     "output_type": "display_data"
    },
    {
     "name": "stderr",
     "output_type": "stream",
     "text": [
      "Undirected graph with 1 connected components; with 2000 nodes and 15705 edges;\n",
      "runtime: 68.49 s\n"
     ]
    },
    {
     "name": "stdout",
     "output_type": "stream",
     "text": [
      "\tmin and max node degree: 635,1\n",
      "\tMax. number of biclusters per gene: 2\n",
      "\tUnique gene groups 17\n"
     ]
    },
    {
     "ename": "AttributeError",
     "evalue": "'NoneType' object has no attribute 'nodes'",
     "output_type": "error",
     "traceback": [
      "\u001b[0;31m---------------------------------------------------------------------------\u001b[0m",
      "\u001b[0;31mAttributeError\u001b[0m                            Traceback (most recent call last)",
      "\u001b[0;32m<ipython-input-3-485b3b8a5569>\u001b[0m in \u001b[0;36m<module>\u001b[0;34m()\u001b[0m\n\u001b[1;32m     27\u001b[0m             \u001b[0mn_attempt\u001b[0m\u001b[0;34m+=\u001b[0m\u001b[0;36m1\u001b[0m\u001b[0;34m\u001b[0m\u001b[0m\n\u001b[1;32m     28\u001b[0m         \u001b[0;31m# check whether resulting subnetworks connected\u001b[0m\u001b[0;34m\u001b[0m\u001b[0;34m\u001b[0m\u001b[0m\n\u001b[0;32m---> 29\u001b[0;31m         \u001b[0mare_connected\u001b[0m \u001b[0;34m=\u001b[0m \u001b[0mcheck_connectivity\u001b[0m\u001b[0;34m(\u001b[0m\u001b[0mG2\u001b[0m\u001b[0;34m,\u001b[0m \u001b[0manno\u001b[0m\u001b[0;34m,\u001b[0m\u001b[0mverbose\u001b[0m\u001b[0;34m=\u001b[0m\u001b[0mFalse\u001b[0m\u001b[0;34m)\u001b[0m\u001b[0;34m\u001b[0m\u001b[0m\n\u001b[0m\u001b[1;32m     30\u001b[0m         \u001b[0;32mprint\u001b[0m\u001b[0;34m(\u001b[0m\u001b[0;34m\"\\tAll subnetworks connected:\"\u001b[0m\u001b[0;34m,\u001b[0m\u001b[0mare_connected\u001b[0m\u001b[0;34m)\u001b[0m\u001b[0;34m\u001b[0m\u001b[0m\n\u001b[1;32m     31\u001b[0m         \u001b[0mnetwork_file\u001b[0m \u001b[0;34m=\u001b[0m \u001b[0moutdir\u001b[0m\u001b[0;34m+\u001b[0m\u001b[0;34m\"/networks/\"\u001b[0m\u001b[0;34m+\u001b[0m\u001b[0mfilename\u001b[0m\u001b[0;34m\u001b[0m\u001b[0m\n",
      "\u001b[0;32m/home/olya/SFU/Breast_cancer/DESMOND/simulations.pyc\u001b[0m in \u001b[0;36mcheck_connectivity\u001b[0;34m(G, anno, verbose)\u001b[0m\n\u001b[1;32m    292\u001b[0m     \u001b[0;32mfor\u001b[0m \u001b[0mbc\u001b[0m \u001b[0;32min\u001b[0m \u001b[0mrange\u001b[0m\u001b[0;34m(\u001b[0m\u001b[0;36m0\u001b[0m\u001b[0;34m,\u001b[0m\u001b[0manno\u001b[0m\u001b[0;34m.\u001b[0m\u001b[0mshape\u001b[0m\u001b[0;34m[\u001b[0m\u001b[0;36m1\u001b[0m\u001b[0;34m]\u001b[0m\u001b[0;34m)\u001b[0m\u001b[0;34m:\u001b[0m\u001b[0;34m\u001b[0m\u001b[0m\n\u001b[1;32m    293\u001b[0m         \u001b[0mnodes_in_bic\u001b[0m \u001b[0;34m=\u001b[0m \u001b[0;34m[\u001b[0m\u001b[0;34m]\u001b[0m\u001b[0;34m\u001b[0m\u001b[0m\n\u001b[0;32m--> 294\u001b[0;31m         \u001b[0;32mfor\u001b[0m \u001b[0mn\u001b[0m\u001b[0;34m,\u001b[0m\u001b[0mdata\u001b[0m \u001b[0;32min\u001b[0m \u001b[0mG\u001b[0m\u001b[0;34m.\u001b[0m\u001b[0mnodes\u001b[0m\u001b[0;34m(\u001b[0m\u001b[0mdata\u001b[0m\u001b[0;34m=\u001b[0m\u001b[0mTrue\u001b[0m\u001b[0;34m)\u001b[0m\u001b[0;34m:\u001b[0m\u001b[0;34m\u001b[0m\u001b[0m\n\u001b[0m\u001b[1;32m    295\u001b[0m             \u001b[0;32mif\u001b[0m \u001b[0mbc\u001b[0m \u001b[0;32min\u001b[0m \u001b[0mdata\u001b[0m\u001b[0;34m[\u001b[0m\u001b[0;34m'bics'\u001b[0m\u001b[0;34m]\u001b[0m\u001b[0;34m:\u001b[0m\u001b[0;34m\u001b[0m\u001b[0m\n\u001b[1;32m    296\u001b[0m                 \u001b[0mnodes_in_bic\u001b[0m\u001b[0;34m.\u001b[0m\u001b[0mappend\u001b[0m\u001b[0;34m(\u001b[0m\u001b[0mn\u001b[0m\u001b[0;34m)\u001b[0m\u001b[0;34m\u001b[0m\u001b[0m\n",
      "\u001b[0;31mAttributeError\u001b[0m: 'NoneType' object has no attribute 'nodes'"
     ]
    }
   ],
   "source": [
    "n_bics=N\n",
    "\n",
    "for genes_per_bic in g_sizes:\n",
    "    for pats_per_bic in p_sizes:    \n",
    "        print(\"Simulate a matrix of (%sx%s) (genesXpatients) expressions\"%(n_genes,n_pats))\n",
    "        print(\"Implant %s (%sx%s) (genesXpatients) biclusters into the matrix;\"%(N,genes_per_bic,pats_per_bic))\n",
    "        df = make_bg_matrix(n_genes,n_pats)\n",
    "        df,biclusters,anno, filename = implant_biclusters(df,genes_per_bic=genes_per_bic,pats_per_bic=pats_per_bic,\n",
    "                                              max_n_bics =N,bic_median=bic_median, outdir=outdir,filename=basename,\n",
    "                                                          g_overlap=allow_gene_overlap,p_overlap=allow_patient_overlap)\n",
    "        print(\"\\tAverage SNR for simulated biclusters:\", round(avg_SNR(biclusters),2))\n",
    "        \n",
    "        # simulate network\n",
    "        G = simulate_network(n_genes,beta, delta)\n",
    "        #n_genes*math.log(n_genes,3)\n",
    "        \n",
    "        # group genes by bicluster membership; star from genes assigned to many biclusters\n",
    "        gene_groups, max_bics_per_gene ,anno = group_genes(anno,verbose = True)\n",
    "        \n",
    "        # assign gene names to nodes such that each bicluster form a CC\n",
    "        G2 = grow_subnetworks(G,gene_groups,max_bics_per_gene, n_trials= 10, verbose=False)\n",
    "        # make three more attemtps to find a solution\n",
    "        n_attempt =2\n",
    "        if G2 is None and n_attempt>4:\n",
    "            print(\"Try growing subnetworks once again in verbose mode ...\\nAttempt #\",str(n_attempt),file=sys.stderr)\n",
    "            G2 = grow_subnetworks(G,gene_groups,max_bics_per_gene, n_trials= 10, verbose=True)\n",
    "            n_attempt+=1\n",
    "        # check whether resulting subnetworks connected\n",
    "        are_connected = check_connectivity(G2, anno,verbose=False)\n",
    "        print(\"\\tAll subnetworks connected:\",are_connected)\n",
    "        network_file = outdir+\"/networks/\"+filename\n",
    "        # clean node attributes in the network\n",
    "        for node in G2.nodes():\n",
    "            del G2.node[node]['bics']\n",
    "        # save network\n",
    "        nx.write_gpickle(G2,network_file+\".gpickle\")\n",
    "        # save as weighted edgelist \n",
    "        nx.set_edge_attributes(G2, 'weight',1)\n",
    "        nx.write_weighted_edgelist(G2, network_file+'.tab')\n",
    "        # load network\n",
    "        #G2 =  nx.read_gpickle(network_file)\n",
    "        #G2.nodes() == G.nodes(), sorted(G2.edges()) == sorted(G.edges())\n",
    "        print(\"\")"
   ]
  },
  {
   "cell_type": "code",
   "execution_count": null,
   "metadata": {},
   "outputs": [],
   "source": []
  },
  {
   "cell_type": "code",
   "execution_count": null,
   "metadata": {},
   "outputs": [],
   "source": []
  }
 ],
 "metadata": {
  "kernelspec": {
   "display_name": "Python [conda env:anaconda3]",
   "language": "python",
   "name": "conda-env-anaconda3-py"
  },
  "language_info": {
   "codemirror_mode": {
    "name": "ipython",
    "version": 2
   },
   "file_extension": ".py",
   "mimetype": "text/x-python",
   "name": "python",
   "nbconvert_exporter": "python",
   "pygments_lexer": "ipython2",
   "version": "2.7.15"
  }
 },
 "nbformat": 4,
 "nbformat_minor": 2
}
